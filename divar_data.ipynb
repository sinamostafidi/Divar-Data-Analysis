{
 "cells": [
  {
   "cell_type": "code",
   "execution_count": 18,
   "metadata": {},
   "outputs": [],
   "source": [
    "import pandas as pd"
   ]
  },
  {
   "cell_type": "code",
   "execution_count": 19,
   "metadata": {},
   "outputs": [],
   "source": [
    "df = pd.read_csv(r'C:\\Users\\SURFACE\\Desktop\\divar_data.csv')"
   ]
  },
  {
   "cell_type": "code",
   "execution_count": 20,
   "metadata": {},
   "outputs": [
    {
     "name": "stdout",
     "output_type": "stream",
     "text": [
      "           action    created_at                       source_event_id  \\\n",
      "0  load_post_page  1.609550e+12  1575558c-a702-46ef-8e18-bc5cef761473   \n",
      "1  load_post_page  1.609550e+12  0fd004f4-ce9b-4766-ac96-7578dedebacb   \n",
      "2  load_post_page  1.609550e+12  479905f2-3bb4-4c90-8e88-5ce4b60d0a73   \n",
      "3  load_post_page  1.609550e+12  b9b609bd-a486-42fb-b1a9-5ca03cf4a215   \n",
      "4  load_post_page  1.609550e+12  6c390fce-34b6-4e19-837e-6bc295a72514   \n",
      "\n",
      "                device_id  post_page_offset  \\\n",
      "0  Ed9EADRZRXCHcrcEP_Hnkg              26.0   \n",
      "1  5aVIp_PNSAWxqwBETYpmxQ              19.0   \n",
      "2  mt0UAT4AQe2dECdXBvKYBA               0.0   \n",
      "3  huSKUX-mSwyUcGzgSbXX6g               0.0   \n",
      "4  sL5fLDdoR9a7aDGPP8N-jA               1.0   \n",
      "\n",
      "                                              tokens  post_index_in_post_list  \\\n",
      "0  [wXvP3enu, wXvHXzUS, wXvPHXVe, wXvPHRs3, wXvH3...                      NaN   \n",
      "1  [wXujANbk, wXurAJsf, wXufwlh1, wXtr_4tD, wXujg...                      NaN   \n",
      "2  [wXvHbNqU, wXvDrof9, wXv_aXHk, wXvDrSIa, wXv_a...                      NaN   \n",
      "3  [wXvb7cpv, wXvH3hL0, wXvjmDaE, wXvT0sOS, wXv_j...                      NaN   \n",
      "4  [wXvjJTIc, wXvb5_SX, wXvb54Gs, wXvb5t6J, wXvbJ...                      NaN   \n",
      "\n",
      "  post_token  \n",
      "0        NaN  \n",
      "1        NaN  \n",
      "2        NaN  \n",
      "3        NaN  \n",
      "4        NaN  \n"
     ]
    }
   ],
   "source": [
    "print(df.head())"
   ]
  },
  {
   "cell_type": "code",
   "execution_count": 21,
   "metadata": {},
   "outputs": [
    {
     "name": "stdout",
     "output_type": "stream",
     "text": [
      "<class 'pandas.core.frame.DataFrame'>\n",
      "RangeIndex: 111083 entries, 0 to 111082\n",
      "Data columns (total 8 columns):\n",
      " #   Column                   Non-Null Count   Dtype  \n",
      "---  ------                   --------------   -----  \n",
      " 0   action                   111083 non-null  object \n",
      " 1   created_at               111083 non-null  float64\n",
      " 2   source_event_id          111083 non-null  object \n",
      " 3   device_id                111083 non-null  object \n",
      " 4   post_page_offset         35287 non-null   float64\n",
      " 5   tokens                   35287 non-null   object \n",
      " 6   post_index_in_post_list  75796 non-null   float64\n",
      " 7   post_token               75796 non-null   object \n",
      "dtypes: float64(3), object(5)\n",
      "memory usage: 6.8+ MB\n",
      "None\n"
     ]
    }
   ],
   "source": [
    "print(df.info())"
   ]
  },
  {
   "cell_type": "code",
   "execution_count": 22,
   "metadata": {},
   "outputs": [
    {
     "name": "stdout",
     "output_type": "stream",
     "text": [
      "action                         0\n",
      "created_at                     0\n",
      "source_event_id                0\n",
      "device_id                      0\n",
      "post_page_offset           75796\n",
      "tokens                     75796\n",
      "post_index_in_post_list    35287\n",
      "post_token                 35287\n",
      "dtype: int64\n"
     ]
    }
   ],
   "source": [
    "print(df.isnull().sum())"
   ]
  },
  {
   "cell_type": "code",
   "execution_count": 24,
   "metadata": {},
   "outputs": [
    {
     "name": "stdout",
     "output_type": "stream",
     "text": [
      "action                     0\n",
      "created_at                 0\n",
      "source_event_id            0\n",
      "device_id                  0\n",
      "post_page_offset           0\n",
      "tokens                     0\n",
      "post_index_in_post_list    0\n",
      "post_token                 0\n",
      "dtype: int64\n"
     ]
    }
   ],
   "source": [
    "df['post_page_offset'] = df['post_page_offset'].fillna(0)  \n",
    "df['tokens'] = df['tokens'].fillna('No Tokens')            \n",
    "df['post_index_in_post_list'] = df['post_index_in_post_list'].fillna(0)  \n",
    "df['post_token'] = df['post_token'].fillna('No Tokens')    \n",
    "\n",
    "print(df.isnull().sum())"
   ]
  },
  {
   "cell_type": "code",
   "execution_count": 25,
   "metadata": {},
   "outputs": [
    {
     "name": "stdout",
     "output_type": "stream",
     "text": [
      "action                             object\n",
      "created_at                 datetime64[ns]\n",
      "source_event_id                    object\n",
      "device_id                          object\n",
      "post_page_offset                    int32\n",
      "tokens                             object\n",
      "post_index_in_post_list             int32\n",
      "post_token                         object\n",
      "dtype: object\n"
     ]
    }
   ],
   "source": [
    "df['action'] = df['action'].astype(str)\n",
    "df['created_at'] = pd.to_datetime(df['created_at'], unit='ms')\n",
    "df['source_event_id'] = df['source_event_id'].astype(str)\n",
    "df['device_id'] = df['device_id'].astype(str)\n",
    "df['post_page_offset'] = df['post_page_offset'].astype(int)\n",
    "df['tokens'] = df['tokens'].astype(str)\n",
    "df['post_index_in_post_list'] = df['post_index_in_post_list'].astype(int)\n",
    "df['post_token'] = df['post_token'].astype(str)\n",
    "\n",
    "print(df.dtypes)"
   ]
  },
  {
   "cell_type": "code",
   "execution_count": 26,
   "metadata": {},
   "outputs": [],
   "source": [
    "df.columns = [col.strip().lower().replace(' ', '_') for col in df.columns]"
   ]
  },
  {
   "cell_type": "code",
   "execution_count": 28,
   "metadata": {},
   "outputs": [
    {
     "name": "stdout",
     "output_type": "stream",
     "text": [
      "Percentage of queries with less than 10 results displayed: 92.44%\n"
     ]
    }
   ],
   "source": [
    "total_queries = len(df)\n",
    "less_than_10_results = len(df[df['post_page_offset'] < 10])\n",
    "percentage_less_than_10 = (less_than_10_results / total_queries) * 100\n",
    "print(f\"Percentage of queries with less than 10 results displayed: {percentage_less_than_10:.2f}%\")"
   ]
  },
  {
   "cell_type": "code",
   "execution_count": 29,
   "metadata": {},
   "outputs": [
    {
     "name": "stdout",
     "output_type": "stream",
     "text": [
      "Percentage of queries with no clicks on results: 76.38%\n"
     ]
    }
   ],
   "source": [
    "total_queries = len(df)\n",
    "no_clicks = len(df[df['post_page_offset'] == 0])\n",
    "percentage_no_clicks = (no_clicks / total_queries) * 100\n",
    "print(f\"Percentage of queries with no clicks on results: {percentage_no_clicks:.2f}%\")"
   ]
  },
  {
   "cell_type": "code",
   "execution_count": 32,
   "metadata": {},
   "outputs": [
    {
     "name": "stdout",
     "output_type": "stream",
     "text": [
      "Percentage of clicked ads compared to loaded ads: 214.80%\n"
     ]
    }
   ],
   "source": [
    "total_loaded_ads = len(df[df['action'] == 'load_post_page'])\n",
    "total_clicked_ads = len(df[df['action'] == 'click_post'])\n",
    "\n",
    "if total_loaded_ads > 0: \n",
    "    percentage_clicked_ads = (total_clicked_ads / total_loaded_ads) * 100\n",
    "else:\n",
    "    percentage_clicked_ads = 0  # Handle case where no ads were loaded\n",
    "\n",
    "print(f\"Percentage of clicked ads compared to loaded ads: {percentage_clicked_ads:.2f}%\")"
   ]
  },
  {
   "cell_type": "code",
   "execution_count": null,
   "metadata": {},
   "outputs": [],
   "source": []
  }
 ],
 "metadata": {
  "kernelspec": {
   "display_name": "Python 3 (ipykernel)",
   "language": "python",
   "name": "python3"
  },
  "language_info": {
   "codemirror_mode": {
    "name": "ipython",
    "version": 3
   },
   "file_extension": ".py",
   "mimetype": "text/x-python",
   "name": "python",
   "nbconvert_exporter": "python",
   "pygments_lexer": "ipython3",
   "version": "3.12.0"
  }
 },
 "nbformat": 4,
 "nbformat_minor": 4
}
